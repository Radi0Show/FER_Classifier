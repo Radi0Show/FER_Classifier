{
 "cells": [
  {
   "cell_type": "code",
   "execution_count": 26,
   "metadata": {},
   "outputs": [
    {
     "name": "stdout",
     "output_type": "stream",
     "text": [
      "Processed video saved to output.mp4\n"
     ]
    }
   ],
   "source": [
    "import torch\n",
    "import cv2\n",
    "\n",
    "# Load the model\n",
    "model_path = 'enet_b2_8_best.pt'\n",
    "model = torch.load(model_path, map_location='cpu')  # Load to CPU\n",
    "model.eval()\n",
    "\n",
    "# Setup video capture\n",
    "video_path = 'SmileVideo.mp4'\n",
    "cap = cv2.VideoCapture(video_path)\n",
    "\n",
    "# Get video properties for output\n",
    "frame_width = int(cap.get(3))\n",
    "frame_height = int(cap.get(4))\n",
    "fps = int(cap.get(cv2.CAP_PROP_FPS))\n",
    "\n",
    "# Setup video writer\n",
    "output_video_path = 'output.mp4'\n",
    "out = cv2.VideoWriter(output_video_path, cv2.VideoWriter_fourcc(*'mp4v'), fps, (frame_width, frame_height))\n",
    "\n",
    "frames_to_skip = 15  # Update predictions every 60 frames\n",
    "frame_counter = 0\n",
    "\n",
    "# Adjust crop size for 360p\n",
    "crop_size = 224  # Keep crop size if model needs this size\n",
    "x_start = (frame_width - crop_size) // 2\n",
    "y_start = (frame_height - crop_size) // 2\n",
    "\n",
    "last_prediction = None  # Store the last prediction\n",
    "\n",
    "while cap.isOpened():\n",
    "    ret, frame = cap.read()\n",
    "    if not ret:\n",
    "        break\n",
    "\n",
    "    # Crop to the center of the frame\n",
    "    center_crop = frame[y_start:y_start+crop_size, x_start:x_start+crop_size]\n",
    "\n",
    "    if frame_counter % frames_to_skip == 0:\n",
    "        # Preprocess the cropped frame\n",
    "        processed_frame = center_crop.transpose((2, 0, 1))\n",
    "        processed_frame = torch.tensor(processed_frame).unsqueeze(0).float()\n",
    "\n",
    "        # Model inference\n",
    "        with torch.no_grad():\n",
    "            output = model(processed_frame)\n",
    "\n",
    "        # Extract prediction data from model output\n",
    "        # Assuming model output is a classification index or similar\n",
    "        last_prediction = output.argmax(1).item()\n",
    "\n",
    "    # Display last known prediction on the frame\n",
    "    if last_prediction is not None:\n",
    "        prediction_text = f\"Prediction: {last_prediction}\"\n",
    "        cv2.putText(frame, prediction_text, (10, 30), cv2.FONT_HERSHEY_SIMPLEX, 0.7, (0, 255, 0), 2)\n",
    "\n",
    "    # Optionally, draw a rectangle on the original frame to show the crop area\n",
    "    cv2.rectangle(frame, (x_start, y_start), (x_start+crop_size, y_start+crop_size), (255, 0, 0), 2)\n",
    "\n",
    "    out.write(frame)\n",
    "    frame_counter += 1\n",
    "\n",
    "cap.release()\n",
    "out.release()\n",
    "cv2.destroyAllWindows()\n",
    "print(f\"Processed video saved to {output_video_path}\")\n"
   ]
  }
 ],
 "metadata": {
  "kernelspec": {
   "display_name": "Python 3",
   "language": "python",
   "name": "python3"
  },
  "language_info": {
   "codemirror_mode": {
    "name": "ipython",
    "version": 3
   },
   "file_extension": ".py",
   "mimetype": "text/x-python",
   "name": "python",
   "nbconvert_exporter": "python",
   "pygments_lexer": "ipython3",
   "version": "3.11.3"
  }
 },
 "nbformat": 4,
 "nbformat_minor": 2
}
